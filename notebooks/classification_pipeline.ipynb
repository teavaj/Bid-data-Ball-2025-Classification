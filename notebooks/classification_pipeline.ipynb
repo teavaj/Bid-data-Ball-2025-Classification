{
 "cells": [
  {
   "metadata": {
    "ExecuteTime": {
     "end_time": "2025-01-20T07:15:41.881545Z",
     "start_time": "2025-01-20T07:15:39.530062Z"
    }
   },
   "cell_type": "code",
   "source": [
    "import numpy as np\n",
    "import polars as pl\n",
    "from pandas.core.common import random_state\n",
    "from sklearn.feature_selection import VarianceThreshold\n",
    "from sklearn.model_selection import train_test_split\n",
    "from sklearn.preprocessing import OrdinalEncoder, MaxAbsScaler"
   ],
   "id": "807d4e84f8e92799",
   "outputs": [],
   "execution_count": 1
  },
  {
   "metadata": {
    "collapsed": true,
    "ExecuteTime": {
     "end_time": "2025-01-20T07:15:41.920543Z",
     "start_time": "2025-01-20T07:15:41.915353Z"
    }
   },
   "cell_type": "code",
   "source": [
    "import base64\n",
    "from IPython.display import Image, display\n",
    "\n",
    "\n",
    "def mm(graph):\n",
    "    \"\"\"Display a Mermaid diagram from a string\"\"\"\n",
    "    graphbytes = graph.encode(\"ascii\")\n",
    "    base64_bytes = base64.b64encode(graphbytes)\n",
    "    base64_string = base64_bytes.decode(\"ascii\")\n",
    "    url = \"https://mermaid.ink/img/\" + base64_string\n",
    "\n",
    "    display(Image(url=url, width=800, height=600))\n"
   ],
   "id": "initial_id",
   "outputs": [],
   "execution_count": 2
  },
  {
   "metadata": {
    "ExecuteTime": {
     "end_time": "2025-01-20T07:15:41.938439Z",
     "start_time": "2025-01-20T07:15:41.933049Z"
    }
   },
   "cell_type": "code",
   "source": [
    "mm(\"\"\"\n",
    "\n",
    "   graph LR\n",
    "\n",
    "       PAR[classification.parquet]\n",
    "       CAT(catetorical columns)\n",
    "        NUM(numerical columns)\n",
    "\n",
    "       VAR[exclude low variance columns]\n",
    "         IMP[impute missing values]\n",
    "       OE[OrdinalEncoder]\n",
    "       SCALE[MaxAbsScaler]\n",
    "\n",
    "\n",
    "         PAR .-> CAT\n",
    "            PAR .-> NUM\n",
    "\n",
    "\n",
    "    subgraph cat_pipeline\n",
    "        CAT --> OE\n",
    "    end\n",
    "\n",
    "    subgraph num_pipeline\n",
    "     NUM --> VAR\n",
    "            VAR --> IMP\n",
    "            IMP --> SCALE\n",
    "    end\n",
    "\n",
    "    subgraph prepared_data\n",
    "\n",
    "    end\n",
    "\n",
    "    OE .-> prepared_data\n",
    "    SCALE .-> prepared_data\n",
    "\n",
    "\n",
    "   \"\"\")"
   ],
   "id": "15c1351260d2ea48",
   "outputs": [
    {
     "data": {
      "text/html": [
       "<img src=\"https://mermaid.ink/img/CgogICBncmFwaCBMUgoKICAgICAgIFBBUltjbGFzc2lmaWNhdGlvbi5wYXJxdWV0XQogICAgICAgQ0FUKGNhdGV0b3JpY2FsIGNvbHVtbnMpCiAgICAgICAgTlVNKG51bWVyaWNhbCBjb2x1bW5zKQoKICAgICAgIFZBUltleGNsdWRlIGxvdyB2YXJpYW5jZSBjb2x1bW5zXQogICAgICAgICBJTVBbaW1wdXRlIG1pc3NpbmcgdmFsdWVzXQogICAgICAgT0VbT3JkaW5hbEVuY29kZXJdCiAgICAgICBTQ0FMRVtNYXhBYnNTY2FsZXJdCgoKICAgICAgICAgUEFSIC4tPiBDQVQKICAgICAgICAgICAgUEFSIC4tPiBOVU0KCgogICAgc3ViZ3JhcGggY2F0X3BpcGVsaW5lCiAgICAgICAgQ0FUIC0tPiBPRQogICAgZW5kCgogICAgc3ViZ3JhcGggbnVtX3BpcGVsaW5lCiAgICAgTlVNIC0tPiBWQVIKICAgICAgICAgICAgVkFSIC0tPiBJTVAKICAgICAgICAgICAgSU1QIC0tPiBTQ0FMRQogICAgZW5kCgogICAgc3ViZ3JhcGggcHJlcGFyZWRfZGF0YQoKICAgIGVuZAoKICAgIE9FIC4tPiBwcmVwYXJlZF9kYXRhCiAgICBTQ0FMRSAuLT4gcHJlcGFyZWRfZGF0YQoKCiAgIA==\" width=\"800\" height=\"600\"/>"
      ],
      "text/plain": [
       "<IPython.core.display.Image object>"
      ]
     },
     "metadata": {},
     "output_type": "display_data"
    }
   ],
   "execution_count": 3
  },
  {
   "metadata": {
    "ExecuteTime": {
     "end_time": "2025-01-20T07:16:09.953147Z",
     "start_time": "2025-01-20T07:15:42.019481Z"
    }
   },
   "cell_type": "code",
   "source": [
    "df = pl.read_parquet('/Users/vajk/Desktop/GitHub/Big-data-Ball-2025/data/classification.parquet')\n",
    "pipe_df = df.with_columns(\n",
    "    pl.col(pl.Boolean).cast(pl.String)\n",
    ")\n",
    "pipe_df = pipe_df.with_columns(pl.col(pl.String).fill_null('0'))\n"
   ],
   "id": "100fe934ba3dcf19",
   "outputs": [],
   "execution_count": 4
  },
  {
   "metadata": {
    "ExecuteTime": {
     "end_time": "2025-01-20T07:16:10.005557Z",
     "start_time": "2025-01-20T07:16:09.971253Z"
    }
   },
   "cell_type": "code",
   "source": [
    "X_ = pipe_df.drop('NextPlay')\n",
    "y_ = pipe_df.drop_in_place('NextPlay')\n",
    "# bool to string\n",
    "# string null fill\n",
    "# string encoding\n",
    "X_train, X_test, y_train, y_test = train_test_split(\n",
    "    X_, y_, test_size=0.2, random_state=42\n",
    "    , stratify=y_\n",
    ")"
   ],
   "id": "e82448131bc6a465",
   "outputs": [],
   "execution_count": 5
  },
  {
   "metadata": {
    "ExecuteTime": {
     "end_time": "2025-01-20T07:16:10.109650Z",
     "start_time": "2025-01-20T07:16:10.017220Z"
    }
   },
   "cell_type": "code",
   "source": [
    "oe = OrdinalEncoder().set_output(transform='polars')\n",
    "oe_df = oe.fit_transform(X_train.select(pl.col(pl.String)))"
   ],
   "id": "c4be06801f609f29",
   "outputs": [],
   "execution_count": 6
  },
  {
   "metadata": {
    "ExecuteTime": {
     "end_time": "2025-01-20T07:16:10.120784Z",
     "start_time": "2025-01-20T07:16:10.117944Z"
    }
   },
   "cell_type": "code",
   "source": "X_train_encoded = X_train.select(pl.all().exclude(oe_df.columns)).hstack(oe_df)",
   "id": "22caa8b5aba2a309",
   "outputs": [],
   "execution_count": 7
  },
  {
   "metadata": {
    "ExecuteTime": {
     "end_time": "2025-01-20T07:16:10.150079Z",
     "start_time": "2025-01-20T07:16:10.133189Z"
    }
   },
   "cell_type": "code",
   "source": [
    "selector = VarianceThreshold(threshold=0.8).set_output(transform='polars')\n",
    "variance_df = selector.fit_transform(X_train_encoded)\n",
    "X_train_var0 = X_train_encoded.select(variance_df.columns)"
   ],
   "id": "1f4e8010fd03fa94",
   "outputs": [],
   "execution_count": 8
  },
  {
   "metadata": {
    "ExecuteTime": {
     "end_time": "2025-01-20T07:16:10.173668Z",
     "start_time": "2025-01-20T07:16:10.167602Z"
    }
   },
   "cell_type": "code",
   "source": "X_train_encoded.var()",
   "id": "d323dd94aab4d7d1",
   "outputs": [
    {
     "data": {
      "text/plain": [
       "shape: (1, 104)\n",
       "┌──────────┬──────────┬──────────┬──────────┬───┬────────────┬────────────┬────────────┬───────────┐\n",
       "│ gameId   ┆ playId   ┆ quarter  ┆ down     ┆ … ┆ PenaltyTyp ┆ homeTeamAb ┆ visitorTea ┆ City      │\n",
       "│ ---      ┆ ---      ┆ ---      ┆ ---      ┆   ┆ e          ┆ br         ┆ mAbbr      ┆ ---       │\n",
       "│ f64      ┆ f64      ┆ f64      ┆ f64      ┆   ┆ ---        ┆ ---        ┆ ---        ┆ f64       │\n",
       "│          ┆          ┆          ┆          ┆   ┆ f64        ┆ f64        ┆ f64        ┆           │\n",
       "╞══════════╪══════════╪══════════╪══════════╪═══╪════════════╪════════════╪════════════╪═══════════╡\n",
       "│ 3.6013e7 ┆ 1.3976e6 ┆ 1.289683 ┆ 0.683849 ┆ … ┆ 7.634275   ┆ 85.275961  ┆ 86.88728   ┆ 77.759838 │\n",
       "└──────────┴──────────┴──────────┴──────────┴───┴────────────┴────────────┴────────────┴───────────┘"
      ],
      "text/html": [
       "<div><style>\n",
       ".dataframe > thead > tr,\n",
       ".dataframe > tbody > tr {\n",
       "  text-align: right;\n",
       "  white-space: pre-wrap;\n",
       "}\n",
       "</style>\n",
       "<small>shape: (1, 104)</small><table border=\"1\" class=\"dataframe\"><thead><tr><th>gameId</th><th>playId</th><th>quarter</th><th>down</th><th>yardsToGo</th><th>yardlineNumber</th><th>preSnapHomeScore</th><th>preSnapVisitorScore</th><th>absoluteYardlineNumber</th><th>preSnapHomeTeamWinProbability</th><th>preSnapVisitorTeamWinProbability</th><th>expectedPoints</th><th>playClockAtSnap</th><th>passLength</th><th>targetX</th><th>targetY</th><th>dropbackDistance</th><th>timeToThrow</th><th>timeInTackleBox</th><th>timeToSack</th><th>qbKneel</th><th>penaltyYards</th><th>prePenaltyYardsGained</th><th>yardsGained</th><th>homeTeamWinProbabilityAdded</th><th>visitorTeamWinProbilityAdded</th><th>expectedPointsAdded</th><th>pff_runPassOption</th><th>epa</th><th>SeriesFirstDown</th><th>Yards</th><th>IsRush</th><th>IsPass</th><th>IsIncomplete</th><th>IsTouchdown</th><th>IsSack</th><th>IsChallenge</th><th>&hellip;</th><th>rain_sum</th><th>snowfall_sum</th><th>precipitation_hours</th><th>wind_speed_10m_max</th><th>wind_gusts_10m_max</th><th>wind_direction_10m_dominant</th><th>Closed</th><th>possessionTeam</th><th>defensiveTeam</th><th>yardlineSide</th><th>gameClock</th><th>playNullifiedByPenalty</th><th>offenseFormation</th><th>receiverAlignment</th><th>passResult</th><th>playAction</th><th>dropbackType</th><th>passLocationType</th><th>passTippedAtLine</th><th>unblockedPressure</th><th>qbSpike</th><th>qbSneak</th><th>rushLocationType</th><th>isDropback</th><th>pff_runConceptPrimary</th><th>pff_runConceptSecondary</th><th>pff_passCoverage</th><th>pff_manZone</th><th>Formation</th><th>PlayType</th><th>PassType</th><th>Challenger</th><th>PenaltyTeam</th><th>PenaltyType</th><th>homeTeamAbbr</th><th>visitorTeamAbbr</th><th>City</th></tr><tr><td>f64</td><td>f64</td><td>f64</td><td>f64</td><td>f64</td><td>f64</td><td>f64</td><td>f64</td><td>f64</td><td>f64</td><td>f64</td><td>f64</td><td>f64</td><td>f64</td><td>f64</td><td>f64</td><td>f64</td><td>f64</td><td>f64</td><td>f64</td><td>f64</td><td>f64</td><td>f64</td><td>f64</td><td>f64</td><td>f64</td><td>f64</td><td>f64</td><td>f64</td><td>f64</td><td>f64</td><td>f64</td><td>f64</td><td>f64</td><td>f64</td><td>f64</td><td>f64</td><td>&hellip;</td><td>f64</td><td>f64</td><td>f64</td><td>f64</td><td>f64</td><td>f64</td><td>f64</td><td>f64</td><td>f64</td><td>f64</td><td>f64</td><td>f64</td><td>f64</td><td>f64</td><td>f64</td><td>f64</td><td>f64</td><td>f64</td><td>f64</td><td>f64</td><td>f64</td><td>f64</td><td>f64</td><td>f64</td><td>f64</td><td>f64</td><td>f64</td><td>f64</td><td>f64</td><td>f64</td><td>f64</td><td>f64</td><td>f64</td><td>f64</td><td>f64</td><td>f64</td><td>f64</td></tr></thead><tbody><tr><td>3.6013e7</td><td>1.3976e6</td><td>1.289683</td><td>0.683849</td><td>15.267079</td><td>160.201144</td><td>89.452717</td><td>85.300959</td><td>592.655137</td><td>0.084197</td><td>0.084197</td><td>2.728402</td><td>39.458964</td><td>100.904074</td><td>681.411281</td><td>227.276609</td><td>3.724776</td><td>1.016142</td><td>0.668734</td><td>1.77335</td><td>0.010035</td><td>78.188823</td><td>74.750862</td><td>78.58439</td><td>0.001658</td><td>0.001658</td><td>1.966845</td><td>0.091656</td><td>4.674644</td><td>0.206114</td><td>78.697387</td><td>0.241531</td><td>0.248405</td><td>0.147402</td><td>0.037175</td><td>0.036745</td><td>0.003405</td><td>&hellip;</td><td>44.800452</td><td>0.0</td><td>23.577329</td><td>61.677474</td><td>156.795181</td><td>9907.158365</td><td>0.233686</td><td>85.396324</td><td>86.846347</td><td>88.89202</td><td>73496.252575</td><td>0.0</td><td>2.4071</td><td>2.252378</td><td>1.468137</td><td>0.142287</td><td>14.022387</td><td>0.569892</td><td>0.270448</td><td>0.312755</td><td>0.246654</td><td>0.259867</td><td>2.006306</td><td>0.239291</td><td>13.531625</td><td>120.824492</td><td>20.674337</td><td>0.827336</td><td>0.47146</td><td>1.349658</td><td>8.802883</td><td>0.0</td><td>8.434968</td><td>7.634275</td><td>85.275961</td><td>86.88728</td><td>77.759838</td></tr></tbody></table></div>"
      ]
     },
     "execution_count": 9,
     "metadata": {},
     "output_type": "execute_result"
    }
   ],
   "execution_count": 9
  },
  {
   "metadata": {},
   "cell_type": "markdown",
   "source": "The Pipeline so far",
   "id": "266048fafa225e4e"
  },
  {
   "metadata": {
    "ExecuteTime": {
     "end_time": "2025-01-20T07:16:10.295615Z",
     "start_time": "2025-01-20T07:16:10.277074Z"
    }
   },
   "cell_type": "code",
   "source": [
    "from sklearn.preprocessing import MaxAbsScaler\n",
    "from sklearn.pipeline import make_pipeline\n",
    "from sklearn.compose import ColumnTransformer\n",
    "from sklearn.base import BaseEstimator, TransformerMixin\n",
    "from sklearn.impute import SimpleImputer\n",
    "import numpy as np\n",
    "\n",
    "\n",
    "class PolarsTransformer(BaseEstimator, TransformerMixin):\n",
    "    def __init__(self, df=None):\n",
    "        self.df = df\n",
    "\n",
    "    def transform(self, X: pl.DataFrame, y=None) -> pl.DataFrame:\n",
    "        pipe_df = X.with_columns(\n",
    "            pl.col(pl.Boolean).cast(pl.String)\n",
    "        )\n",
    "        pipe_df = pipe_df.with_columns(pl.col(pl.String).fill_null('0'))\n",
    "\n",
    "        return pipe_df\n",
    "\n",
    "    def cat_columns(self, X: pl.DataFrame) -> list:\n",
    "        cat_df = self.transform(X)\n",
    "        return cat_df.select(pl.col(pl.String)).columns\n",
    "\n",
    "    def num_columns(self, X: pl.DataFrame) -> list:\n",
    "        num_df = self.transform(X)\n",
    "        return num_df.select(pl.all().exclude(pl.String)).columns\n",
    "\n",
    "\n",
    "cat_attribs = PolarsTransformer().cat_columns(df)\n",
    "\n",
    "cat_pipeline = make_pipeline(\n",
    "\n",
    "    OrdinalEncoder(dtype=np.int64).set_output(transform='polars')\n",
    "\n",
    ")\n",
    "\n",
    "num_attribs = PolarsTransformer().num_columns(df)\n",
    "\n",
    "num_pipeline = make_pipeline(\n",
    "    VarianceThreshold(threshold=0.8).set_output(transform='polars'),\n",
    "    SimpleImputer(strategy=\"median\").set_output(transform='polars'),\n",
    "    MaxAbsScaler().set_output(transform='polars')\n",
    ")\n",
    "preprocessing = ColumnTransformer([\n",
    "    (\"num\", num_pipeline, num_attribs),\n",
    "    (\"cat\", cat_pipeline, cat_attribs),\n",
    "]).set_output(transform='polars')"
   ],
   "id": "fc9f84df4354bb6a",
   "outputs": [],
   "execution_count": 10
  },
  {
   "metadata": {
    "ExecuteTime": {
     "end_time": "2025-01-20T07:16:10.431311Z",
     "start_time": "2025-01-20T07:16:10.425610Z"
    }
   },
   "cell_type": "code",
   "source": [
    "def cat_pipiline(df: pl.DataFrame) -> pl.DataFrame:\n",
    "    cat_attribs = PolarsTransformer().cat_columns(df)\n",
    "\n",
    "    cat_pipeline = make_pipeline(\n",
    "\n",
    "        OrdinalEncoder(dtype=np.int64).set_output(transform='polars')\n",
    "\n",
    "    )\n",
    "\n",
    "    num_attribs = PolarsTransformer().num_columns(df)\n",
    "\n",
    "    num_pipeline = make_pipeline(\n",
    "        VarianceThreshold(threshold=0.8).set_output(transform='polars'),\n",
    "        SimpleImputer(strategy=\"median\").set_output(transform='polars'),\n",
    "        MaxAbsScaler().set_output(transform='polars')\n",
    "    )\n",
    "    preprocessing = ColumnTransformer([\n",
    "        (\"num\", num_pipeline, num_attribs),\n",
    "        (\"cat\", cat_pipeline, cat_attribs),\n",
    "    ]).set_output(transform='polars')\n",
    "\n",
    "    df_prepared = (preprocessing.fit_transform(PolarsTransformer().transform(df))).select(pl.all().shrink_dtype())\n",
    "\n",
    "    return df_prepared"
   ],
   "id": "64aeb89a771d7c65",
   "outputs": [],
   "execution_count": 11
  },
  {
   "metadata": {
    "ExecuteTime": {
     "end_time": "2025-01-20T07:16:10.548232Z",
     "start_time": "2025-01-20T07:16:10.538545Z"
    }
   },
   "cell_type": "code",
   "source": [
    "\n",
    "\n",
    "X_ = df.drop('NextPlay')\n",
    "y_ = df.drop_in_place('NextPlay')\n",
    "\n",
    "X_train, X_test, y_train, y_test = train_test_split(\n",
    "    X_, y_, test_size=0.2, random_state=42\n",
    "   # , stratify=y_\n",
    ")"
   ],
   "id": "2d9e5986366a144",
   "outputs": [],
   "execution_count": 12
  },
  {
   "metadata": {
    "ExecuteTime": {
     "end_time": "2025-01-20T07:16:10.850692Z",
     "start_time": "2025-01-20T07:16:10.662739Z"
    }
   },
   "cell_type": "code",
   "source": "df_= cat_pipiline(X_train)",
   "id": "fa4b3f4f865d2934",
   "outputs": [],
   "execution_count": 13
  },
  {
   "metadata": {},
   "cell_type": "code",
   "outputs": [],
   "execution_count": null,
   "source": "",
   "id": "5f4f970c9d41c83c"
  }
 ],
 "metadata": {
  "kernelspec": {
   "display_name": "bdb25",
   "language": "python",
   "name": "bdb25"
  },
  "language_info": {
   "codemirror_mode": {
    "name": "ipython",
    "version": 2
   },
   "file_extension": ".py",
   "mimetype": "text/x-python",
   "name": "python",
   "nbconvert_exporter": "python",
   "pygments_lexer": "ipython2",
   "version": "2.7.6"
  }
 },
 "nbformat": 4,
 "nbformat_minor": 5
}
