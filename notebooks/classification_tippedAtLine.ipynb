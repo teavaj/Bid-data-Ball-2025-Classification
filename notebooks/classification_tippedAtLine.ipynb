{
 "cells": [
  {
   "cell_type": "code",
   "execution_count": null,
   "metadata": {},
   "outputs": [],
   "source": [
    "import sys\n",
    "import os\n",
    "from re import search\n",
    "\n",
    "from importlib_metadata import distributions\n",
    "from scipy.stats import gamma\n",
    "\n",
    "parent_dir = os.path.abspath(os.path.join(os.getcwd(), os.pardir))\n",
    "sys.path.insert(0, parent_dir)\n",
    "\n",
    "import polars as pl\n",
    "from sklearn.model_selection import train_test_split, cross_val_predict\n",
    "from sklearn.svm import SVC\n",
    "\n",
    "from classification_pipeline import cat_pipiline\n",
    "\n",
    "df = pl.read_parquet('../smalldata/classification.parquet')\n",
    "df_prepared = cat_pipiline(df)\n",
    "y_lst = ['cat__PlayType', 'cat__offenseFormation', 'cat__passResult', 'cat__passLocationType', 'cat__passTippedAtLine']\n",
    "\n",
    "\n",
    "\n",
    "def y_select(columns_name):\n",
    "    \"\"\"Creates test and train data for the given target column\"\"\"\n",
    "    X_ = df_prepared.drop(columns_name)\n",
    "    y_ = df_prepared.select(columns_name).to_numpy().ravel()\n",
    "\n",
    "    X_train, X_test, y_train, y_test = train_test_split(\n",
    "        X_, y_, test_size=0.2, random_state=42\n",
    "        # , stratify=y_\n",
    "    )\n",
    "\n",
    "    return X_train, X_test, y_train, y_test"
   ]
  }
 ],
 "metadata": {
  "language_info": {
   "name": "python"
  }
 },
 "nbformat": 4,
 "nbformat_minor": 2
}
